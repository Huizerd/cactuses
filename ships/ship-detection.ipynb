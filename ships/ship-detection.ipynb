{
 "cells": [
  {
   "cell_type": "markdown",
   "metadata": {},
   "source": [
    "## Collect data"
   ]
  },
  {
   "cell_type": "code",
   "execution_count": null,
   "metadata": {},
   "outputs": [],
   "source": [
    "!kaggle competitions download -c airbus-ship-detection"
   ]
  },
  {
   "cell_type": "code",
   "execution_count": null,
   "metadata": {},
   "outputs": [],
   "source": [
    "!mv *.zip *.csv data/"
   ]
  },
  {
   "cell_type": "code",
   "execution_count": null,
   "metadata": {},
   "outputs": [],
   "source": [
    "!unzip data/train_v2.zip -d data/train\n",
    "!unzip data/test_v2.zip -d data/test\n",
    "!unzip data/train_ship_segmentations_v2.csv.zip"
   ]
  },
  {
   "cell_type": "code",
   "execution_count": null,
   "metadata": {},
   "outputs": [],
   "source": [
    "!rm data/*.zip\n",
    "!ls data/"
   ]
  },
  {
   "cell_type": "markdown",
   "metadata": {},
   "source": [
    "## Process data"
   ]
  },
  {
   "cell_type": "code",
   "execution_count": null,
   "metadata": {},
   "outputs": [],
   "source": [
    "import pandas as pd\n",
    "from pathlib import Path\n",
    "from fastai.vision import *\n",
    "%matplotlib inline\n",
    "\n",
    "# Data locations\n",
    "path = Path(\"data/\")"
   ]
  },
  {
   "cell_type": "code",
   "execution_count": null,
   "metadata": {},
   "outputs": [],
   "source": [
    "df = pd.read_csv(path/\"sample_submission_v2.csv\")\n",
    "df.head()"
   ]
  },
  {
   "cell_type": "code",
   "execution_count": null,
   "metadata": {},
   "outputs": [],
   "source": [
    "!chmod a+r data/train_ship_segmentations_v2.csv\n",
    "!chmod u+w data/train_ship_segmentations_v2.csv"
   ]
  },
  {
   "cell_type": "code",
   "execution_count": null,
   "metadata": {},
   "outputs": [],
   "source": [
    "rle_masks = pd.read_csv(path/\"train_ship_segmentations_v2.csv\")\n",
    "rle_masks.head()"
   ]
  },
  {
   "cell_type": "code",
   "execution_count": null,
   "metadata": {},
   "outputs": [],
   "source": [
    "rle_masks = rle_masks.fillna(0)\n",
    "rle_masks.to_csv(path/\"train_ship_segmentations_v2_filtered.csv\")"
   ]
  },
  {
   "cell_type": "code",
   "execution_count": null,
   "metadata": {},
   "outputs": [],
   "source": [
    "rle_masks.head()"
   ]
  },
  {
   "cell_type": "code",
   "execution_count": null,
   "metadata": {},
   "outputs": [],
   "source": [
    "imsize = (768, 768)\n",
    "open_mask_rle(rle_masks[\"EncodedPixels\"][2], shape=imsize).shape"
   ]
  },
  {
   "cell_type": "code",
   "execution_count": null,
   "metadata": {},
   "outputs": [],
   "source": [
    "open_mask_rle(rle_masks[\"EncodedPixels\"][2], shape=imsize)"
   ]
  },
  {
   "cell_type": "code",
   "execution_count": null,
   "metadata": {},
   "outputs": [],
   "source": [
    "def open_mask_rle_custom(mask_rle, shape):\n",
    "    import pdb\n",
    "    pdb.set_trace()\n",
    "    return open_mask_rle(mask_rle, shape)"
   ]
  },
  {
   "cell_type": "code",
   "execution_count": null,
   "metadata": {},
   "outputs": [],
   "source": [
    "# tfms = get_transforms(flip_vert=True)\n",
    "# use label from df, + setattr mask opener to open mask rle\n",
    "# possibly needs train data to be opened with df as well\n",
    "test = SegmentationItemList.from_csv(path, folder=\"test\", csv_name=\"sample_submission_v2.csv\")\n",
    "train = SegmentationItemList.from_csv(path, folder=\"train\", csv_name=\"train_ship_segmentations_v2_filtered.csv\")\n",
    "setattr(train, \"open\", partial(open_mask_rle, shape=(768, 768)))"
   ]
  },
  {
   "cell_type": "code",
   "execution_count": null,
   "metadata": {},
   "outputs": [],
   "source": [
    "type(train)"
   ]
  },
  {
   "cell_type": "code",
   "execution_count": null,
   "metadata": {},
   "outputs": [],
   "source": [
    "train = (train\n",
    "    .split_by_rand_pct(0.3)\n",
    "#     .setattr(open, open_mask_rle)\n",
    "    .label_from_df(classes=[\"no ship\", \"ship\"])\n",
    "#     .mask_opener(open_mask_rle)\n",
    "    .add_test(test)\n",
    "    .transform(get_transforms(flip_vert=True), tfm_y=True, size=128)\n",
    "    .databunch(path=\".\", bs=64)\n",
    "    .normalize(imagenet_stats)\n",
    "        )"
   ]
  }
 ],
 "metadata": {
  "kernelspec": {
   "display_name": "Python 3",
   "language": "python",
   "name": "python3"
  },
  "language_info": {
   "codemirror_mode": {
    "name": "ipython",
    "version": 3
   },
   "file_extension": ".py",
   "mimetype": "text/x-python",
   "name": "python",
   "nbconvert_exporter": "python",
   "pygments_lexer": "ipython3",
   "version": "3.7.0"
  }
 },
 "nbformat": 4,
 "nbformat_minor": 2
}
